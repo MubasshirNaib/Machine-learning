{
  "nbformat": 4,
  "nbformat_minor": 0,
  "metadata": {
    "colab": {
      "provenance": [],
      "authorship_tag": "ABX9TyMEDjc1zxJwPdTVJZu3A0lv",
      "include_colab_link": true
    },
    "kernelspec": {
      "name": "python3",
      "display_name": "Python 3"
    },
    "language_info": {
      "name": "python"
    }
  },
  "cells": [
    {
      "cell_type": "markdown",
      "metadata": {
        "id": "view-in-github",
        "colab_type": "text"
      },
      "source": [
        "<a href=\"https://colab.research.google.com/github/MubasshirNaib/Machine-learning/blob/main/MLTask01.ipynb\" target=\"_parent\"><img src=\"https://colab.research.google.com/assets/colab-badge.svg\" alt=\"Open In Colab\"/></a>"
      ]
    },
    {
      "cell_type": "markdown",
      "source": [
        "**Task 1:**\n",
        "Perform suitable experiments with your created numpy arrays with all the properties and functions\n",
        "mentioned under the “iii. Numpy” section."
      ],
      "metadata": {
        "id": "s4wCSvB-jBOj"
      }
    },
    {
      "cell_type": "code",
      "source": [
        "#Using np.array\n",
        "import numpy as np\n",
        "\n",
        "Array=np.array([1,2,3,4,5])\n",
        "print(\"Array: \",Array);"
      ],
      "metadata": {
        "colab": {
          "base_uri": "https://localhost:8080/"
        },
        "id": "_k1tNixzjFnS",
        "outputId": "3e2574de-7455-4421-8ce0-0d1b81971c72"
      },
      "execution_count": null,
      "outputs": [
        {
          "output_type": "stream",
          "name": "stdout",
          "text": [
            "Array:  [1 2 3 4 5]\n"
          ]
        }
      ]
    },
    {
      "cell_type": "code",
      "source": [
        "#Creating an array of zeros\n",
        "Array=np.zeros((3,5))\n",
        "print(Array)\n",
        "#Creating an array of ones\n",
        "Array=np.ones((3,3))\n",
        "print(Array)"
      ],
      "metadata": {
        "colab": {
          "base_uri": "https://localhost:8080/"
        },
        "id": "fpRItPX8lF-0",
        "outputId": "fc3e3948-a9bc-4af2-e185-4f965517b295"
      },
      "execution_count": null,
      "outputs": [
        {
          "output_type": "stream",
          "name": "stdout",
          "text": [
            "[[0. 0. 0. 0. 0.]\n",
            " [0. 0. 0. 0. 0.]\n",
            " [0. 0. 0. 0. 0.]]\n",
            "[[1. 1. 1.]\n",
            " [1. 1. 1.]\n",
            " [1. 1. 1.]]\n"
          ]
        }
      ]
    },
    {
      "cell_type": "code",
      "source": [
        "#array of random values\n",
        "rarray=np.random.random((2,3))\n",
        "print(rarray)"
      ],
      "metadata": {
        "colab": {
          "base_uri": "https://localhost:8080/"
        },
        "id": "8fvHtadym-Jh",
        "outputId": "66bcf03a-2d16-4f99-ff1f-619967cc88f4"
      },
      "execution_count": null,
      "outputs": [
        {
          "output_type": "stream",
          "name": "stdout",
          "text": [
            "[[0.43464414 0.39664744 0.02659495]\n",
            " [0.5976464  0.17343483 0.87184854]]\n"
          ]
        }
      ]
    },
    {
      "cell_type": "code",
      "source": [
        "#array with a range of values\n",
        "aarray=np.arange(10)\n",
        "print(aarray)"
      ],
      "metadata": {
        "colab": {
          "base_uri": "https://localhost:8080/"
        },
        "id": "8ZRde3V6qqho",
        "outputId": "163baa45-1c87-49f3-e504-37081b595100"
      },
      "execution_count": null,
      "outputs": [
        {
          "output_type": "stream",
          "name": "stdout",
          "text": [
            "[0 1 2 3 4 5 6 7 8 9]\n"
          ]
        }
      ]
    },
    {
      "cell_type": "code",
      "source": [
        "# Creating an array with linearly spaced values\n",
        "l_array=np.linspace(1,10,5)#9/4\n",
        "print(l_array)"
      ],
      "metadata": {
        "colab": {
          "base_uri": "https://localhost:8080/"
        },
        "id": "0Rd8Pyddr6Z7",
        "outputId": "7fb446c8-78e3-4b2d-c4a3-82d436e3ca8e"
      },
      "execution_count": null,
      "outputs": [
        {
          "output_type": "stream",
          "name": "stdout",
          "text": [
            "[ 1.    3.25  5.5   7.75 10.  ]\n"
          ]
        }
      ]
    },
    {
      "cell_type": "code",
      "source": [
        "#copy\n",
        "o_array=np.array([1,2,3,4,5])\n",
        "c_array=np.copy(o_array)\n",
        "print(c_array)"
      ],
      "metadata": {
        "colab": {
          "base_uri": "https://localhost:8080/"
        },
        "id": "9D_azTSgtwk0",
        "outputId": "43a1a6a1-f9fa-4171-d5ef-b14d095f25b8"
      },
      "execution_count": null,
      "outputs": [
        {
          "output_type": "stream",
          "name": "stdout",
          "text": [
            "[1 2 3 4 5]\n"
          ]
        }
      ]
    },
    {
      "cell_type": "code",
      "source": [
        "#Numpy Array Propertie and Attributes\n",
        "array=np.array([[1,2,3],[4,5,6]])\n",
        "\n",
        "print(\"Shape:\",array.shape)\n",
        "print(\"Number of dimensions:\",array.ndim)\n",
        "print(\"Number of elements\",array.size)\n",
        "print(\"Item size(bytes):\",array.itemsize)\n",
        "print(\"Data Type:\",array.dtype)\n",
        "#Changing data type\n",
        "array_float=array.astype(np.float64)\n",
        "print(\"Array with changes data type:\",array_float)\n",
        "print(\"New data type:\",array_float.dtype)"
      ],
      "metadata": {
        "colab": {
          "base_uri": "https://localhost:8080/"
        },
        "id": "SIKqsB1i7OAN",
        "outputId": "303e782e-008d-478d-80e1-ce6f54d81daf"
      },
      "execution_count": null,
      "outputs": [
        {
          "output_type": "stream",
          "name": "stdout",
          "text": [
            "Shape: (2, 3)\n",
            "Number of dimensions: 2\n",
            "Number of elements 6\n",
            "Item size(bytes): 8\n",
            "Data Type: int64\n",
            "Array with changes data type: [[1. 2. 3.]\n",
            " [4. 5. 6.]]\n",
            "New data type: float64\n"
          ]
        }
      ]
    },
    {
      "cell_type": "code",
      "source": [
        "#indexing\n",
        "array=np.array([1,2,3,4,5])\n",
        "print(array[1])\n",
        "#slicing\n",
        "print(array[1:4])\n",
        "#iteration\n",
        "for i in array:\n",
        "  print(i,\"\",end=\"\")\n"
      ],
      "metadata": {
        "colab": {
          "base_uri": "https://localhost:8080/"
        },
        "id": "uw2ubaRB7PAE",
        "outputId": "54fc6aea-47f8-49e5-a0d7-1ebd08b25f85"
      },
      "execution_count": null,
      "outputs": [
        {
          "output_type": "stream",
          "name": "stdout",
          "text": [
            "2\n",
            "[2 3 4]\n",
            "1 2 3 4 5 "
          ]
        }
      ]
    },
    {
      "cell_type": "code",
      "source": [
        "#arithmatic operation\n",
        "array1=np.array([1,2,3,4,5])\n",
        "array2=np.array([3,4,1,2,6])\n",
        "print(array1+array2)\n",
        "print(array1-array2)\n",
        "print(array1*array2)\n",
        "print(array1/array2)\n",
        "print(\"Greater than:\",array1>array2)\n",
        "print(\"Less then or equal\",array1<=array2)"
      ],
      "metadata": {
        "colab": {
          "base_uri": "https://localhost:8080/"
        },
        "id": "MsrY11XL_RIO",
        "outputId": "a38312ab-a647-4a20-dc35-8b373dcad5d8"
      },
      "execution_count": null,
      "outputs": [
        {
          "output_type": "stream",
          "name": "stdout",
          "text": [
            "[ 4  6  4  6 11]\n",
            "[-2 -2  2  2 -1]\n",
            "[ 3  8  3  8 30]\n",
            "[0.33333333 0.5        3.         2.         0.83333333]\n",
            "Greater than: [False False  True  True False]\n",
            "Less then or equal [ True  True False False  True]\n"
          ]
        }
      ]
    },
    {
      "cell_type": "code",
      "source": [
        "#Unary Operation\n",
        "array=np.array([1,2,3,6,7,2,1,4,7,6])\n",
        "print(\"Sum:\",array.sum())\n",
        "print(\"Mean\",array.mean())\n",
        "print(\"Maximum value:\",array.max())\n",
        "print(\"Minimum value:\",array.min())\n",
        "print(\"Standard deviation\",array.std())\n",
        "print(\"Index of minimum value: \",array.argmin())\n",
        "print(\"Index of Maximum value: \",array.argmax())\n",
        "\n",
        "#reshape\n",
        "r_array=array.reshape((5,2))\n",
        "print(r_array)"
      ],
      "metadata": {
        "colab": {
          "base_uri": "https://localhost:8080/"
        },
        "id": "mhdy8pOCARtj",
        "outputId": "7267feec-ffc2-4d79-a1a1-53001131508d"
      },
      "execution_count": null,
      "outputs": [
        {
          "output_type": "stream",
          "name": "stdout",
          "text": [
            "Sum: 39\n",
            "Mean 3.9\n",
            "Maximum value: 7\n",
            "Minimum value: 1\n",
            "Standard deviation 2.3\n",
            "Index of minimum value:  0\n",
            "Index of Maximum value:  4\n",
            "[[1 2]\n",
            " [3 6]\n",
            " [7 2]\n",
            " [1 4]\n",
            " [7 6]]\n"
          ]
        }
      ]
    }
  ]
}
{
  "nbformat": 4,
  "nbformat_minor": 0,
  "metadata": {
    "colab": {
      "provenance": [],
      "authorship_tag": "ABX9TyOgyf1sNZDW+BsMjoZkzZWn",
      "include_colab_link": true
    },
    "kernelspec": {
      "name": "python3",
      "display_name": "Python 3"
    },
    "language_info": {
      "name": "python"
    }
  },
  "cells": [
    {
      "cell_type": "markdown",
      "metadata": {
        "id": "view-in-github",
        "colab_type": "text"
      },
      "source": [
        "<a href=\"https://colab.research.google.com/github/MubasshirNaib/Machine-learning/blob/main/MLTask2.ipynb\" target=\"_parent\"><img src=\"https://colab.research.google.com/assets/colab-badge.svg\" alt=\"Open In Colab\"/></a>"
      ]
    },
    {
      "cell_type": "code",
      "execution_count": null,
      "metadata": {
        "colab": {
          "base_uri": "https://localhost:8080/"
        },
        "id": "gsM-33fK0GZZ",
        "outputId": "9b53bac1-2999-4051-8352-9a28d7b4886f"
      },
      "outputs": [
        {
          "output_type": "stream",
          "name": "stdout",
          "text": [
            "Displaying the first few rows of dataset:\n",
            "         date home_team away_team  home_score  away_score tournament     city  \\\n",
            "0  1872-11-30  Scotland   England         0.0         0.0   Friendly  Glasgow   \n",
            "1  1873-03-08   England  Scotland         4.0         2.0   Friendly   London   \n",
            "2  1874-03-07  Scotland   England         2.0         1.0   Friendly  Glasgow   \n",
            "3  1875-03-06   England  Scotland         2.0         2.0   Friendly   London   \n",
            "4  1876-03-04  Scotland   England         3.0         0.0   Friendly  Glasgow   \n",
            "\n",
            "    country  neutral  \n",
            "0  Scotland    False  \n",
            "1   England    False  \n",
            "2  Scotland    False  \n",
            "3   England    False  \n",
            "4  Scotland    False  \n",
            "Displaying the last few rows of dataset:\n",
            "             date home_team away_team  home_score  away_score tournament  \\\n",
            "47121  2024-07-06       NaN       NaN         NaN         NaN  UEFA Euro   \n",
            "47122  2024-07-06       NaN       NaN         NaN         NaN  UEFA Euro   \n",
            "47123  2024-07-09       NaN       NaN         NaN         NaN  UEFA Euro   \n",
            "47124  2024-07-10       NaN       NaN         NaN         NaN  UEFA Euro   \n",
            "47125  2024-07-14       NaN       NaN         NaN         NaN  UEFA Euro   \n",
            "\n",
            "             city  country  neutral  \n",
            "47121  Düsseldorf  Germany     True  \n",
            "47122      Berlin  Germany     True  \n",
            "47123      Munich  Germany     True  \n",
            "47124    Dortmund  Germany     True  \n",
            "47125      Berlin  Germany     True  \n"
          ]
        }
      ],
      "source": [
        "import pandas as pd\n",
        "\n",
        "dataset=pd.read_csv('/content/sample_data/results.csv')\n",
        "# Load the Iris dataset\n",
        "# url = \"https://archive.ics.uci.edu/ml/machine-learning-databases/iris/iris.data\"\n",
        "# column_names = ['sepal_length', 'sepal_width', 'petal_length', 'petal_width', 'species']\n",
        "# iris = pd.read_csv(url, header=None, names=column_names\n",
        "\n",
        "print(\"Displaying the first few rows of dataset:\")\n",
        "print(dataset.head())\n",
        "print(\"Displaying the last few rows of dataset:\")\n",
        "print(dataset.tail())\n"
      ]
    },
    {
      "cell_type": "code",
      "source": [
        "print(\"Information about the dataset:\")\n",
        "print(dataset.info())"
      ],
      "metadata": {
        "colab": {
          "base_uri": "https://localhost:8080/"
        },
        "id": "_kVWPXdi2_kP",
        "outputId": "05cd0048-88bb-4774-8420-6edb06ca4746"
      },
      "execution_count": null,
      "outputs": [
        {
          "output_type": "stream",
          "name": "stdout",
          "text": [
            "Information about the dataset:\n",
            "<class 'pandas.core.frame.DataFrame'>\n",
            "RangeIndex: 47126 entries, 0 to 47125\n",
            "Data columns (total 9 columns):\n",
            " #   Column      Non-Null Count  Dtype  \n",
            "---  ------      --------------  -----  \n",
            " 0   date        47126 non-null  object \n",
            " 1   home_team   47111 non-null  object \n",
            " 2   away_team   47111 non-null  object \n",
            " 3   home_score  47075 non-null  float64\n",
            " 4   away_score  47075 non-null  float64\n",
            " 5   tournament  47126 non-null  object \n",
            " 6   city        47126 non-null  object \n",
            " 7   country     47126 non-null  object \n",
            " 8   neutral     47126 non-null  bool   \n",
            "dtypes: bool(1), float64(2), object(6)\n",
            "memory usage: 2.9+ MB\n",
            "None\n"
          ]
        }
      ]
    },
    {
      "cell_type": "code",
      "source": [
        "print(\"Missing Values: \")\n",
        "print(dataset.isnull().sum())"
      ],
      "metadata": {
        "colab": {
          "base_uri": "https://localhost:8080/"
        },
        "id": "_Td2k3Md3T72",
        "outputId": "d66c9a6e-9a80-4025-ec7f-0609cbb1cef4"
      },
      "execution_count": null,
      "outputs": [
        {
          "output_type": "stream",
          "name": "stdout",
          "text": [
            "Missing Values: \n",
            "date           0\n",
            "home_team     15\n",
            "away_team     15\n",
            "home_score    51\n",
            "away_score    51\n",
            "tournament     0\n",
            "city           0\n",
            "country        0\n",
            "neutral        0\n",
            "dtype: int64\n"
          ]
        }
      ]
    },
    {
      "cell_type": "code",
      "source": [
        "print(\"Summary statistics of numerical coloumns:\")\n",
        "print(dataset.describe())"
      ],
      "metadata": {
        "colab": {
          "base_uri": "https://localhost:8080/"
        },
        "id": "UZknsHy43kpH",
        "outputId": "dc780e20-a9ab-4724-9688-b5ca39822281"
      },
      "execution_count": null,
      "outputs": [
        {
          "output_type": "stream",
          "name": "stdout",
          "text": [
            "Summary statistics of numerical coloumns:\n",
            "         home_score    away_score\n",
            "count  47075.000000  47075.000000\n",
            "mean       1.761190      1.183452\n",
            "std        1.776751      1.402597\n",
            "min        0.000000      0.000000\n",
            "25%        1.000000      0.000000\n",
            "50%        1.000000      1.000000\n",
            "75%        2.000000      2.000000\n",
            "max       31.000000     21.000000\n"
          ]
        }
      ]
    },
    {
      "cell_type": "code",
      "source": [
        "print(\"Occurrences of each category in country coloumn\")\n",
        "print(dataset['country'].value_counts())"
      ],
      "metadata": {
        "colab": {
          "base_uri": "https://localhost:8080/"
        },
        "id": "CaM-XtJ04Mj0",
        "outputId": "edd22f63-1263-4248-9d9c-bc7bab7f5016"
      },
      "execution_count": null,
      "outputs": [
        {
          "output_type": "stream",
          "name": "stdout",
          "text": [
            "Occurrences of each category in country coloumn\n",
            "country\n",
            "United States          1353\n",
            "France                  887\n",
            "Malaysia                812\n",
            "England                 743\n",
            "Thailand                699\n",
            "                       ... \n",
            "Belgian Congo             1\n",
            "Bohemia and Moravia       1\n",
            "Mali Federation           1\n",
            "Portuguese Guinea         1\n",
            "Micronesia                1\n",
            "Name: count, Length: 271, dtype: int64\n"
          ]
        }
      ]
    },
    {
      "cell_type": "markdown",
      "source": [
        "Data selection"
      ],
      "metadata": {
        "id": "lsQouAw372Gh"
      }
    },
    {
      "cell_type": "code",
      "source": [
        "print(\"subset of the data set by  some coloumns:\")\n",
        "subset_columns=dataset[['home_team','away_team','home_score','away_score']]\n",
        "print(subset_columns)"
      ],
      "metadata": {
        "colab": {
          "base_uri": "https://localhost:8080/"
        },
        "id": "nC_aF6M375Tm",
        "outputId": "9735178b-70ae-4c2c-e55f-641e94a25a39"
      },
      "execution_count": null,
      "outputs": [
        {
          "output_type": "stream",
          "name": "stdout",
          "text": [
            "subset of the data set by  some coloumns:\n",
            "      home_team away_team  home_score  away_score\n",
            "0      Scotland   England         0.0         0.0\n",
            "1       England  Scotland         4.0         2.0\n",
            "2      Scotland   England         2.0         1.0\n",
            "3       England  Scotland         2.0         2.0\n",
            "4      Scotland   England         3.0         0.0\n",
            "...         ...       ...         ...         ...\n",
            "47121       NaN       NaN         NaN         NaN\n",
            "47122       NaN       NaN         NaN         NaN\n",
            "47123       NaN       NaN         NaN         NaN\n",
            "47124       NaN       NaN         NaN         NaN\n",
            "47125       NaN       NaN         NaN         NaN\n",
            "\n",
            "[47126 rows x 4 columns]\n"
          ]
        }
      ]
    },
    {
      "cell_type": "code",
      "source": [
        "#selecting specific columns and rows:\n",
        "print(\" specific columns and rows  1 to 5 \")\n",
        "subset_row_column=dataset.loc[1:5,['home_team','away_team','home_score','away_score']]\n",
        "print(subset_row_column)"
      ],
      "metadata": {
        "colab": {
          "base_uri": "https://localhost:8080/"
        },
        "id": "m1Ld1mHI8yG-",
        "outputId": "88c58ecd-78d3-438a-caf2-ed3ba1376cbf"
      },
      "execution_count": null,
      "outputs": [
        {
          "output_type": "stream",
          "name": "stdout",
          "text": [
            " specific columns and rows  1 to 5 \n",
            "  home_team away_team  home_score  away_score\n",
            "1   England  Scotland         4.0         2.0\n",
            "2  Scotland   England         2.0         1.0\n",
            "3   England  Scotland         2.0         2.0\n",
            "4  Scotland   England         3.0         0.0\n",
            "5  Scotland     Wales         4.0         0.0\n"
          ]
        }
      ]
    },
    {
      "cell_type": "markdown",
      "source": [
        "Data Transformation"
      ],
      "metadata": {
        "id": "U43eoQw7Eh2B"
      }
    },
    {
      "cell_type": "code",
      "source": [
        "dataset['home_score_squared']=dataset['home_score'].apply(lambda x:x**2)\n",
        "print(dataset.head())"
      ],
      "metadata": {
        "colab": {
          "base_uri": "https://localhost:8080/"
        },
        "id": "27wvsOZLEmtq",
        "outputId": "5da47ade-2fde-441e-f747-1a1fdad13005"
      },
      "execution_count": null,
      "outputs": [
        {
          "output_type": "stream",
          "name": "stdout",
          "text": [
            "         date home_team away_team  home_score  away_score tournament     city  \\\n",
            "0  1872-11-30  Scotland   England         0.0         0.0   Friendly  Glasgow   \n",
            "1  1873-03-08   England  Scotland         4.0         2.0   Friendly   London   \n",
            "2  1874-03-07  Scotland   England         2.0         1.0   Friendly  Glasgow   \n",
            "3  1875-03-06   England  Scotland         2.0         2.0   Friendly   London   \n",
            "4  1876-03-04  Scotland   England         3.0         0.0   Friendly  Glasgow   \n",
            "\n",
            "    country  neutral  home_score_squared  \n",
            "0  Scotland    False                 0.0  \n",
            "1   England    False                16.0  \n",
            "2  Scotland    False                 4.0  \n",
            "3   England    False                 4.0  \n",
            "4  Scotland    False                 9.0  \n"
          ]
        }
      ]
    },
    {
      "cell_type": "code",
      "source": [
        "#map values of the 'tournament' column to new values\n",
        "tournament_mapping={\n",
        "    'FIFA World Cup':'World Cup',\n",
        "    'Friendly':'Friendly Match',\n",
        "}\n",
        "dataset['Tournament_mapped']=dataset['tournament'].map(tournament_mapping)\n",
        "print(dataset.head())"
      ],
      "metadata": {
        "colab": {
          "base_uri": "https://localhost:8080/"
        },
        "id": "dDUiFtYWFF8K",
        "outputId": "5db3f688-6ec8-4df5-fcfc-eefbb602c432"
      },
      "execution_count": null,
      "outputs": [
        {
          "output_type": "stream",
          "name": "stdout",
          "text": [
            "         date home_team away_team  home_score  away_score tournament     city  \\\n",
            "0  1872-11-30  Scotland   England         0.0         0.0   Friendly  Glasgow   \n",
            "1  1873-03-08   England  Scotland         4.0         2.0   Friendly   London   \n",
            "2  1874-03-07  Scotland   England         2.0         1.0   Friendly  Glasgow   \n",
            "3  1875-03-06   England  Scotland         2.0         2.0   Friendly   London   \n",
            "4  1876-03-04  Scotland   England         3.0         0.0   Friendly  Glasgow   \n",
            "\n",
            "    country  neutral  home_score_squared Tournament_mapped  \n",
            "0  Scotland    False                 0.0    Friendly Match  \n",
            "1   England    False                16.0    Friendly Match  \n",
            "2  Scotland    False                 4.0    Friendly Match  \n",
            "3   England    False                 4.0    Friendly Match  \n",
            "4  Scotland    False                 9.0    Friendly Match  \n"
          ]
        }
      ]
    },
    {
      "cell_type": "markdown",
      "source": [
        "Sorting"
      ],
      "metadata": {
        "id": "_RZbOpNKF-2n"
      }
    },
    {
      "cell_type": "code",
      "source": [
        "#sort the dataset by date in non-ascending order\n",
        "dataset_sorted=dataset.sort_values(by='date',ascending=False)\n",
        "print(dataset_sorted.head())"
      ],
      "metadata": {
        "colab": {
          "base_uri": "https://localhost:8080/"
        },
        "id": "7XXcO8IvGAVc",
        "outputId": "74f523e5-5cfe-42d6-fa07-e5ee1282b3b6"
      },
      "execution_count": null,
      "outputs": [
        {
          "output_type": "stream",
          "name": "stdout",
          "text": [
            "             date home_team away_team  home_score  away_score tournament  \\\n",
            "47125  2024-07-14       NaN       NaN         NaN         NaN  UEFA Euro   \n",
            "47124  2024-07-10       NaN       NaN         NaN         NaN  UEFA Euro   \n",
            "47123  2024-07-09       NaN       NaN         NaN         NaN  UEFA Euro   \n",
            "47122  2024-07-06       NaN       NaN         NaN         NaN  UEFA Euro   \n",
            "47121  2024-07-06       NaN       NaN         NaN         NaN  UEFA Euro   \n",
            "\n",
            "             city  country  neutral  home_score_squared Tournament_mapped  \n",
            "47125      Berlin  Germany     True                 NaN               NaN  \n",
            "47124    Dortmund  Germany     True                 NaN               NaN  \n",
            "47123      Munich  Germany     True                 NaN               NaN  \n",
            "47122      Berlin  Germany     True                 NaN               NaN  \n",
            "47121  Düsseldorf  Germany     True                 NaN               NaN  \n"
          ]
        }
      ]
    },
    {
      "cell_type": "markdown",
      "source": [
        "Duplicte Handling"
      ],
      "metadata": {
        "id": "JNN25SdkGl9Z"
      }
    },
    {
      "cell_type": "code",
      "source": [
        "duplicated_rows=dataset.duplicated()\n",
        "print(duplicated_rows.sum())"
      ],
      "metadata": {
        "colab": {
          "base_uri": "https://localhost:8080/"
        },
        "id": "Tf6sygV_GoKL",
        "outputId": "dba41d22-db38-49ff-932f-b2427e26e298"
      },
      "execution_count": null,
      "outputs": [
        {
          "output_type": "stream",
          "name": "stdout",
          "text": [
            "0\n"
          ]
        }
      ]
    },
    {
      "cell_type": "code",
      "source": [
        "# Check for duplicates based on 'home_team' and 'away_team'\n",
        "duplicates_specific_columns = dataset.duplicated(subset=['home_team', 'away_team'])\n",
        "print(\"\\nDuplicated entries based on 'home_team' and 'away_team':\")\n",
        "print(duplicates_specific_columns.sum())\n"
      ],
      "metadata": {
        "colab": {
          "base_uri": "https://localhost:8080/"
        },
        "id": "Pr8Jlh-aHK0c",
        "outputId": "d05d3b48-8448-4b07-9e55-30c88d893a01"
      },
      "execution_count": null,
      "outputs": [
        {
          "output_type": "stream",
          "name": "stdout",
          "text": [
            "\n",
            "Duplicated entries based on 'home_team' and 'away_team':\n",
            "35270\n"
          ]
        }
      ]
    },
    {
      "cell_type": "code",
      "source": [
        "# Drop duplicate rows\n",
        "df_no_duplicates = dataset.drop_duplicates()\n",
        "print(\"DataFrame after dropping duplicate rows:\")\n",
        "print(df_no_duplicates.shape)\n"
      ],
      "metadata": {
        "colab": {
          "base_uri": "https://localhost:8080/"
        },
        "id": "Tx9qBR-oIvT8",
        "outputId": "8396c72e-11a2-4ec8-807e-be52298c875c"
      },
      "execution_count": null,
      "outputs": [
        {
          "output_type": "stream",
          "name": "stdout",
          "text": [
            "DataFrame after dropping duplicate rows:\n",
            "(47126, 11)\n"
          ]
        }
      ]
    },
    {
      "cell_type": "markdown",
      "source": [
        "Missing Value Handling"
      ],
      "metadata": {
        "id": "TwwMkG0XJHQN"
      }
    },
    {
      "cell_type": "code",
      "source": [
        "# Check for missing values\n",
        "missing_values = dataset.isnull().sum()\n",
        "print(\"Missing values in the dataset:\")\n",
        "print(missing_values)\n"
      ],
      "metadata": {
        "colab": {
          "base_uri": "https://localhost:8080/"
        },
        "id": "48jD5FerJJJc",
        "outputId": "a4a7d46f-1359-4117-ec0d-3eb46a858153"
      },
      "execution_count": null,
      "outputs": [
        {
          "output_type": "stream",
          "name": "stdout",
          "text": [
            "Missing values in the dataset:\n",
            "date                      0\n",
            "home_team                15\n",
            "away_team                15\n",
            "home_score               51\n",
            "away_score               51\n",
            "tournament                0\n",
            "city                      0\n",
            "country                   0\n",
            "neutral                   0\n",
            "home_score_squared       51\n",
            "Tournament_mapped     28260\n",
            "dtype: int64\n"
          ]
        }
      ]
    },
    {
      "cell_type": "code",
      "source": [
        "# Fill missing values with the next valid observation\n",
        "df_filled = dataset.fillna(method='bfill')\n",
        "print(\"DataFrame after filling missing values with the next valid observation:\")\n",
        "print(df_filled.isnull().sum())\n"
      ],
      "metadata": {
        "colab": {
          "base_uri": "https://localhost:8080/"
        },
        "id": "UGVYhn6QKHfP",
        "outputId": "d1139dfe-5adb-406c-8bb1-7b6c8aa99f9d"
      },
      "execution_count": null,
      "outputs": [
        {
          "output_type": "stream",
          "name": "stdout",
          "text": [
            "DataFrame after filling missing values with the next valid observation:\n",
            "date                   0\n",
            "home_team             15\n",
            "away_team             15\n",
            "home_score            51\n",
            "away_score            51\n",
            "tournament             0\n",
            "city                   0\n",
            "country                0\n",
            "neutral                0\n",
            "home_score_squared    51\n",
            "Tournament_mapped     51\n",
            "dtype: int64\n"
          ]
        }
      ]
    }
  ]
}
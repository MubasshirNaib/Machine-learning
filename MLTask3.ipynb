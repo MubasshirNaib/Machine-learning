{
  "nbformat": 4,
  "nbformat_minor": 0,
  "metadata": {
    "colab": {
      "provenance": [],
      "authorship_tag": "ABX9TyM3+ivaPkZEWfH4m373hJkF",
      "include_colab_link": true
    },
    "kernelspec": {
      "name": "python3",
      "display_name": "Python 3"
    },
    "language_info": {
      "name": "python"
    }
  },
  "cells": [
    {
      "cell_type": "markdown",
      "metadata": {
        "id": "view-in-github",
        "colab_type": "text"
      },
      "source": [
        "<a href=\"https://colab.research.google.com/github/MubasshirNaib/Machine-learning/blob/main/MLTask3.ipynb\" target=\"_parent\"><img src=\"https://colab.research.google.com/assets/colab-badge.svg\" alt=\"Open In Colab\"/></a>"
      ]
    },
    {
      "cell_type": "code",
      "execution_count": 13,
      "metadata": {
        "colab": {
          "base_uri": "https://localhost:8080/"
        },
        "id": "PQVjJuilLTeb",
        "outputId": "b97bd0ee-41fd-406d-ecf6-43b4142ef3bb"
      },
      "outputs": [
        {
          "output_type": "stream",
          "name": "stdout",
          "text": [
            "        ID  innings  overs  ballnumber       batter          bowler  \\\n",
            "0  1312200        1      0           1  YBK Jaiswal  Mohammed Shami   \n",
            "1  1312200        1      0           2  YBK Jaiswal  Mohammed Shami   \n",
            "2  1312200        1      0           3   JC Buttler  Mohammed Shami   \n",
            "3  1312200        1      0           4  YBK Jaiswal  Mohammed Shami   \n",
            "4  1312200        1      0           5  YBK Jaiswal  Mohammed Shami   \n",
            "\n",
            "   non-striker extra_type  batsman_run  extras_run  total_run  non_boundary  \\\n",
            "0   JC Buttler        NaN            0           0          0             0   \n",
            "1   JC Buttler    legbyes            0           1          1             0   \n",
            "2  YBK Jaiswal        NaN            1           0          1             0   \n",
            "3   JC Buttler        NaN            0           0          0             0   \n",
            "4   JC Buttler        NaN            0           0          0             0   \n",
            "\n",
            "   isWicketDelivery player_out kind fielders_involved       BattingTeam  \n",
            "0                 0        NaN  NaN               NaN  Rajasthan Royals  \n",
            "1                 0        NaN  NaN               NaN  Rajasthan Royals  \n",
            "2                 0        NaN  NaN               NaN  Rajasthan Royals  \n",
            "3                 0        NaN  NaN               NaN  Rajasthan Royals  \n",
            "4                 0        NaN  NaN               NaN  Rajasthan Royals  \n"
          ]
        }
      ],
      "source": [
        "import pandas as pd\n",
        "import matplotlib.pyplot as plt\n",
        "dataset1=pd.read_csv('/content/IPL_Ball_by_Ball_2008_2022.csv')\n",
        "dataset2=pd.read_csv('/content/IPL_Matches_2008_2022.csv')\n",
        "print(dataset1.head())\n"
      ]
    },
    {
      "cell_type": "code",
      "source": [
        "print(dataset2.head())"
      ],
      "metadata": {
        "colab": {
          "base_uri": "https://localhost:8080/"
        },
        "id": "RMXy0tlhN54l",
        "outputId": "642315b3-519a-4eb4-d8b6-0e71a6644bac"
      },
      "execution_count": 14,
      "outputs": [
        {
          "output_type": "stream",
          "name": "stdout",
          "text": [
            "        ID       City        Date Season  MatchNumber  \\\n",
            "0  1312200  Ahmedabad  2022-05-29   2022        Final   \n",
            "1  1312199  Ahmedabad  2022-05-27   2022  Qualifier 2   \n",
            "2  1312198    Kolkata  2022-05-25   2022   Eliminator   \n",
            "3  1312197    Kolkata  2022-05-24   2022  Qualifier 1   \n",
            "4  1304116     Mumbai  2022-05-22   2022           70   \n",
            "\n",
            "                         Team1                 Team2  \\\n",
            "0             Rajasthan Royals        Gujarat Titans   \n",
            "1  Royal Challengers Bangalore      Rajasthan Royals   \n",
            "2  Royal Challengers Bangalore  Lucknow Super Giants   \n",
            "3             Rajasthan Royals        Gujarat Titans   \n",
            "4          Sunrisers Hyderabad          Punjab Kings   \n",
            "\n",
            "                              Venue            TossWinner TossDecision  \\\n",
            "0  Narendra Modi Stadium, Ahmedabad      Rajasthan Royals          bat   \n",
            "1  Narendra Modi Stadium, Ahmedabad      Rajasthan Royals        field   \n",
            "2             Eden Gardens, Kolkata  Lucknow Super Giants        field   \n",
            "3             Eden Gardens, Kolkata        Gujarat Titans        field   \n",
            "4          Wankhede Stadium, Mumbai   Sunrisers Hyderabad          bat   \n",
            "\n",
            "  SuperOver                  WinningTeam    WonBy  Margin method  \\\n",
            "0         N               Gujarat Titans  Wickets     7.0    NaN   \n",
            "1         N             Rajasthan Royals  Wickets     7.0    NaN   \n",
            "2         N  Royal Challengers Bangalore     Runs    14.0    NaN   \n",
            "3         N               Gujarat Titans  Wickets     7.0    NaN   \n",
            "4         N                 Punjab Kings  Wickets     5.0    NaN   \n",
            "\n",
            "  Player_of_Match                                       Team1Players  \\\n",
            "0       HH Pandya  ['YBK Jaiswal', 'JC Buttler', 'SV Samson', 'D ...   \n",
            "1      JC Buttler  ['V Kohli', 'F du Plessis', 'RM Patidar', 'GJ ...   \n",
            "2      RM Patidar  ['V Kohli', 'F du Plessis', 'RM Patidar', 'GJ ...   \n",
            "3       DA Miller  ['YBK Jaiswal', 'JC Buttler', 'SV Samson', 'D ...   \n",
            "4   Harpreet Brar  ['PK Garg', 'Abhishek Sharma', 'RA Tripathi', ...   \n",
            "\n",
            "                                        Team2Players        Umpire1  \\\n",
            "0  ['WP Saha', 'Shubman Gill', 'MS Wade', 'HH Pan...    CB Gaffaney   \n",
            "1  ['YBK Jaiswal', 'JC Buttler', 'SV Samson', 'D ...    CB Gaffaney   \n",
            "2  ['Q de Kock', 'KL Rahul', 'M Vohra', 'DJ Hooda...  J Madanagopal   \n",
            "3  ['WP Saha', 'Shubman Gill', 'MS Wade', 'HH Pan...   BNJ Oxenford   \n",
            "4  ['JM Bairstow', 'S Dhawan', 'M Shahrukh Khan',...   AK Chaudhary   \n",
            "\n",
            "         Umpire2  \n",
            "0    Nitin Menon  \n",
            "1    Nitin Menon  \n",
            "2       MA Gough  \n",
            "3      VK Sharma  \n",
            "4  NA Patwardhan  \n"
          ]
        }
      ]
    },
    {
      "cell_type": "markdown",
      "source": [
        "1. Find the highest wicket taker in any particular season"
      ],
      "metadata": {
        "id": "x8o57YYLRQj-"
      }
    },
    {
      "cell_type": "code",
      "source": [
        "# Merge match and ball-by-ball data to include season information\n",
        "merged_df = dataset1.merge(dataset2[['ID', 'Season']], left_on='ID', right_on='ID')\n",
        "\n",
        "wickets_df = merged_df[merged_df['kind'].notnull()]\n",
        "\n",
        "\n",
        "# Group by season and bowler to count wickets\n",
        "wickets_count = wickets_df.groupby(['Season', 'bowler']).size().reset_index(name='wickets')\n",
        "# Find the bowler with the highest wickets for each season\n",
        "highest_wicket_taker = wickets_count.loc[wickets_count.groupby('Season')['wickets'].idxmax()]\n",
        "# print(\"Highest wicket taker in each season:\")\n",
        "# print(highest_wicket_taker)\n",
        "season=input(\"Enter the Season: \")\n",
        "k=highest_wicket_taker[highest_wicket_taker['Season']==season]\n",
        "print(k)\n",
        "\n",
        "\n",
        "\n"
      ],
      "metadata": {
        "colab": {
          "base_uri": "https://localhost:8080/"
        },
        "id": "oECf1Eh_RRUN",
        "outputId": "a3bb3846-adb2-4af4-d5dd-7cf8b3eb0ea3"
      },
      "execution_count": 28,
      "outputs": [
        {
          "output_type": "stream",
          "name": "stdout",
          "text": [
            "Enter the Season: 2012\n",
            "    Season    bowler  wickets\n",
            "447   2012  M Morkel       30\n"
          ]
        }
      ]
    },
    {
      "cell_type": "markdown",
      "source": [
        "2. Find out the name of the player:\n",
        "- faced highest number of deliveries in the history of IPL\n",
        "- hit highest number of sixes in the history of IPL\n",
        "- taken highest number of catches in the history of IPL\n",
        "- taken highest number of LBW wickets in the history of IPL"
      ],
      "metadata": {
        "id": "QjTXVQrMkDaf"
      }
    },
    {
      "cell_type": "code",
      "source": [
        "highest_deliveries = dataset1.groupby('batter')['ballnumber'].count().idxmax()\n",
        "print(f\"The player who faced the highest number of deliveries: {highest_deliveries}\")\n",
        "# # Faced highest number of deliveries\n",
        "# deliveries_faced = dataset1.groupby('batter')['ballnumber'].size().reset_index()\n",
        "# max_deliveries = deliveries_faced['ballnumber'].max()\n",
        "# player_with_max_deliveries = deliveries_faced.loc[deliveries_faced['ballnumber'] == max_deliveries]\n",
        "# print(player_with_max_deliveries['ballnumber'])\n",
        "\n"
      ],
      "metadata": {
        "colab": {
          "base_uri": "https://localhost:8080/"
        },
        "id": "Uazdk_BpkJzp",
        "outputId": "9a5324ac-2e57-4b5b-e6a9-4fcf6b3951ad"
      },
      "execution_count": 53,
      "outputs": [
        {
          "output_type": "stream",
          "name": "stdout",
          "text": [
            "The player who faced the highest number of deliveries: V Kohli\n"
          ]
        }
      ]
    },
    {
      "cell_type": "code",
      "source": [
        "highest_sixes = dataset1[dataset1['batsman_run'] == 6].groupby('batter').size().idxmax()\n",
        "print(f\"The player who hit the highest number of sixes: {highest_sixes}\")\n"
      ],
      "metadata": {
        "colab": {
          "base_uri": "https://localhost:8080/"
        },
        "id": "dUA09fECqOcQ",
        "outputId": "3686b615-50e0-4c7b-e1eb-9d3d5fdf535d"
      },
      "execution_count": 40,
      "outputs": [
        {
          "output_type": "stream",
          "name": "stdout",
          "text": [
            "The player who hit the highest number of sixes: CH Gayle\n"
          ]
        }
      ]
    },
    {
      "cell_type": "code",
      "source": [
        "highest_catches = dataset1[dataset1['kind'] == 'caught'].groupby('fielders_involved').size().idxmax()\n",
        "print(f\"The player who took the highest number of catches: {highest_catches}\")\n"
      ],
      "metadata": {
        "colab": {
          "base_uri": "https://localhost:8080/"
        },
        "id": "szqVqCLcq9Wk",
        "outputId": "c10647f9-1c65-46d5-9011-68f8ada71b79"
      },
      "execution_count": 43,
      "outputs": [
        {
          "output_type": "stream",
          "name": "stdout",
          "text": [
            "The player who took the highest number of catches: MS Dhoni\n"
          ]
        }
      ]
    },
    {
      "cell_type": "code",
      "source": [
        "highest_lbw_wickets = dataset1[dataset1['kind'] == 'lbw'].groupby('bowler').size().idxmax()\n",
        "print(f\"The player who took the highest number of LBW wickets: {highest_lbw_wickets}\")\n"
      ],
      "metadata": {
        "colab": {
          "base_uri": "https://localhost:8080/"
        },
        "id": "mrOj8n_Frd5r",
        "outputId": "a6677ab5-d947-4ed7-e8d1-62dc083278dc"
      },
      "execution_count": 44,
      "outputs": [
        {
          "output_type": "stream",
          "name": "stdout",
          "text": [
            "The player who took the highest number of LBW wickets: Rashid Khan\n"
          ]
        }
      ]
    },
    {
      "cell_type": "markdown",
      "source": [
        "3. Find highest run getters in each of the seasons (2008-2022) and amount of his run.\n",
        "And plot a suitable chart indicating this information using matplotlib."
      ],
      "metadata": {
        "id": "tF2QWATGszXj"
      }
    },
    {
      "cell_type": "code",
      "source": [
        "# Group by season and batsman to sum runs\n",
        "season_run_getters = merged_df.groupby(['Season', 'batter'])['batsman_run'].sum().reset_index()\n",
        "\n",
        "# Find the highest run getter for each season\n",
        "highest_run_getter_per_season = season_run_getters.loc[season_run_getters.groupby('Season')['batsman_run'].idxmax()]\n",
        "\n",
        "print(\"Highest run getters in each season:\")\n",
        "print(highest_run_getter_per_season)\n",
        "\n",
        "# Plot the data\n",
        "plt.figure(figsize=(12, 6))\n",
        "plt.bar(highest_run_getter_per_season['Season'], highest_run_getter_per_season['batsman_run'])\n",
        "plt.xlabel('Season')\n",
        "plt.ylabel('Runs')\n",
        "plt.title('Highest Run Getters in Each Season')\n",
        "plt.xticks(rotation=45)\n",
        "plt.show()\n"
      ],
      "metadata": {
        "colab": {
          "base_uri": "https://localhost:8080/",
          "height": 896
        },
        "id": "gshwFeW2s8fJ",
        "outputId": "eb6281e3-bd32-4644-fdcd-574b8defaba6"
      },
      "execution_count": 57,
      "outputs": [
        {
          "output_type": "stream",
          "name": "stdout",
          "text": [
            "Highest run getters in each season:\n",
            "       Season         batter  batsman_run\n",
            "115   2007/08       SE Marsh          616\n",
            "229      2009      ML Hayden          572\n",
            "446   2009/10   SR Tendulkar          618\n",
            "502      2011       CH Gayle          608\n",
            "684      2012       CH Gayle          733\n",
            "910      2013     MEK Hussey          733\n",
            "1088     2014     RV Uthappa          660\n",
            "1148     2015      DA Warner          562\n",
            "1383     2016        V Kohli          973\n",
            "1422     2017      DA Warner          641\n",
            "1594     2018  KS Williamson          735\n",
            "1694     2019      DA Warner          692\n",
            "1866  2020/21       KL Rahul          676\n",
            "2051     2021     RD Gaikwad          635\n",
            "2144     2022     JC Buttler          863\n"
          ]
        },
        {
          "output_type": "display_data",
          "data": {
            "text/plain": [
              "<Figure size 1200x600 with 1 Axes>"
            ],
            "image/png": "[encoded data removed]"
          },
          "metadata": {}
        }
      ]
    },
    {
      "cell_type": "markdown",
      "source": [
        "4.Find the top 5 batsmen in the history of IPL based on strike rate (optional)"
      ],
      "metadata": {
        "id": "dPaxbhOwt_uU"
      }
    },
    {
      "cell_type": "code",
      "source": [
        "# Calculate strike rate for each batsman\n",
        "batsman_stats = dataset1.groupby('batter').agg({'ballnumber': 'count', 'batsman_run': 'sum'})\n",
        "batsman_stats['strike_rate'] = (batsman_stats['batsman_run'] / batsman_stats['ballnumber']) * 100\n",
        "\n",
        "# Filter out batsmen who faced less than 50 balls\n",
        "batsman_stats = batsman_stats[batsman_stats['ballnumber'] >= 50]\n",
        "\n",
        "# Find top 5 batsmen based on strike rate\n",
        "top_5_batsmen = batsman_stats.sort_values(by='strike_rate', ascending=False).head(5)\n",
        "print(\"Top 5 batsmen based on strike rate:\")\n",
        "print(top_5_batsmen)\n"
      ],
      "metadata": {
        "colab": {
          "base_uri": "https://localhost:8080/"
        },
        "id": "c2YPqUawuBwe",
        "outputId": "f6f6304c-9c86-4864-9649-472055c08229"
      },
      "execution_count": 61,
      "outputs": [
        {
          "output_type": "stream",
          "name": "stdout",
          "text": [
            "Top 5 batsmen based on strike rate:\n",
            "              ballnumber  batsman_run  strike_rate\n",
            "batter                                            \n",
            "TH David              94          187   198.936170\n",
            "LJ Wright             63          106   168.253968\n",
            "AD Russell          1212         2039   168.234323\n",
            "KK Cooper             70          116   165.714286\n",
            "Kamran Akmal          78          128   164.102564\n"
          ]
        }
      ]
    }
  ]
}